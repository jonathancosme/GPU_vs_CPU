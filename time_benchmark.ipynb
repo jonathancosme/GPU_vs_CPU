{
 "cells": [
  {
   "cell_type": "markdown",
   "id": "499828f6-2363-4ac9-8673-c403bbb16fa2",
   "metadata": {},
   "source": [
    "# Summary\n",
    "This notebook runs the CPU demo while timing it, then runs the GPU demo while timing it.  \n",
    "It's designed to see the total runtime for the entire notebook (although indiviudal task times in each notebook will also print out).  \n",
    "The last printed line will indicate the total runtime.  \n",
    "Make sure that the Input filename are the same in both the GPU and CPU notebooks."
   ]
  },
  {
   "cell_type": "code",
   "execution_count": 1,
   "id": "08aa7d74-d823-4eab-a890-de4e5ba1e553",
   "metadata": {},
   "outputs": [
    {
     "name": "stdout",
     "output_type": "stream",
     "text": [
      "CPU times: user 676 ms, sys: 66.2 ms, total: 742 ms\n",
      "Wall time: 742 ms\n",
      "CPU times: user 2.45 s, sys: 222 ms, total: 2.68 s\n",
      "Wall time: 2.76 s\n",
      "CPU times: user 96.5 ms, sys: 0 ns, total: 96.5 ms\n",
      "Wall time: 96.4 ms\n",
      "CPU times: user 73.2 ms, sys: 35.8 ms, total: 109 ms\n",
      "Wall time: 109 ms\n",
      "CPU times: user 159 ms, sys: 0 ns, total: 159 ms\n",
      "Wall time: 158 ms\n",
      "CPU times: user 327 ms, sys: 18.7 ms, total: 346 ms\n",
      "Wall time: 345 ms\n",
      "CPU times: user 149 ms, sys: 3.37 ms, total: 152 ms\n",
      "Wall time: 153 ms\n",
      "CPU times: user 398 ms, sys: 4.14 ms, total: 403 ms\n",
      "Wall time: 402 ms\n",
      "CPU times: user 7.32 ms, sys: 1.95 ms, total: 9.28 ms\n",
      "Wall time: 9.14 ms\n",
      "CPU times: user 61.7 ms, sys: 8.28 ms, total: 70 ms\n",
      "Wall time: 70.1 ms\n",
      "CPU times: user 93.5 ms, sys: 8.53 ms, total: 102 ms\n",
      "Wall time: 74.8 ms\n",
      "CPU times: user 20.4 s, sys: 22.4 s, total: 42.7 s\n",
      "Wall time: 3.72 s\n",
      "CPU times: user 8.73 s, sys: 4.76 s, total: 13.5 s\n",
      "Wall time: 1.28 s\n",
      "CPU times: user 7.48 s, sys: 11.5 ms, total: 7.49 s\n",
      "Wall time: 7.5 s\n",
      "using CPU...\n",
      "[04:30:47] WARNING: /opt/conda/envs/rapids/conda-bld/xgboost_1649372530131/work/src/learner.cc:1115: Starting in XGBoost 1.3.0, the default evaluation metric used with the objective 'binary:logistic' was changed from 'error' to 'logloss'. Explicitly set eval_metric if you'd like to restore the old behavior.\n",
      "CPU times: user 1min 21s, sys: 244 ms, total: 1min 22s\n",
      "Wall time: 17.4 s\n",
      "CPU times: user 2min 4s, sys: 28.3 s, total: 2min 32s\n",
      "Wall time: 35.8 s\n"
     ]
    }
   ],
   "source": [
    "%%time\n",
    "%run CPU_demo.ipynb"
   ]
  },
  {
   "cell_type": "code",
   "execution_count": 2,
   "id": "4ada0726-0a7f-4fcf-b34e-c00e46637d0a",
   "metadata": {},
   "outputs": [
    {
     "name": "stdout",
     "output_type": "stream",
     "text": [
      "CPU times: user 1.8 s, sys: 1.06 s, total: 2.86 s\n",
      "Wall time: 4.14 s\n",
      "CPU times: user 36.7 ms, sys: 71 ms, total: 108 ms\n",
      "Wall time: 189 ms\n",
      "CPU times: user 219 ms, sys: 16.3 ms, total: 235 ms\n",
      "Wall time: 288 ms\n",
      "CPU times: user 12.9 ms, sys: 8.19 ms, total: 21.1 ms\n",
      "Wall time: 21 ms\n",
      "CPU times: user 13.4 ms, sys: 0 ns, total: 13.4 ms\n",
      "Wall time: 13.6 ms\n",
      "CPU times: user 15.7 ms, sys: 7.84 ms, total: 23.6 ms\n",
      "Wall time: 24.1 ms\n",
      "CPU times: user 40.7 ms, sys: 0 ns, total: 40.7 ms\n",
      "Wall time: 41.1 ms\n",
      "CPU times: user 72.4 ms, sys: 11.9 ms, total: 84.3 ms\n",
      "Wall time: 84.7 ms\n",
      "CPU times: user 2.04 ms, sys: 0 ns, total: 2.04 ms\n",
      "Wall time: 2.04 ms\n",
      "CPU times: user 29.7 ms, sys: 20.1 ms, total: 49.8 ms\n",
      "Wall time: 90.9 ms\n",
      "CPU times: user 846 ms, sys: 545 ms, total: 1.39 s\n",
      "Wall time: 2.22 s\n",
      "CPU times: user 273 ms, sys: 15.4 ms, total: 288 ms\n",
      "Wall time: 291 ms\n",
      "CPU times: user 48 ms, sys: 3.1 ms, total: 51.1 ms\n",
      "Wall time: 55.2 ms\n"
     ]
    },
    {
     "name": "stderr",
     "output_type": "stream",
     "text": [
      "/home/jcosme/miniconda3/envs/ds/lib/python3.9/site-packages/cuml/internals/api_decorators.py:794: UserWarning: For reproducible results in Random Forest Classifier or for almost reproducible results in Random Forest Regressor, n_streams=1 is recommended. If n_streams is > 1, results may vary due to stream/thread timing differences, even when random_state is set\n",
      "  return func(**kwargs)\n"
     ]
    },
    {
     "name": "stdout",
     "output_type": "stream",
     "text": [
      "CPU times: user 598 ms, sys: 182 ms, total: 780 ms\n",
      "Wall time: 454 ms\n",
      "using GPU...\n",
      "[04:31:11] WARNING: /opt/conda/envs/rapids/conda-bld/xgboost_1649372530131/work/src/learner.cc:1115: Starting in XGBoost 1.3.0, the default evaluation metric used with the objective 'binary:logistic' was changed from 'error' to 'logloss'. Explicitly set eval_metric if you'd like to restore the old behavior.\n",
      "CPU times: user 394 ms, sys: 39.8 ms, total: 434 ms\n",
      "Wall time: 452 ms\n",
      "CPU times: user 5.06 s, sys: 2.05 s, total: 7.1 s\n",
      "Wall time: 9.23 s\n"
     ]
    }
   ],
   "source": [
    "%%time\n",
    "%run GPU_demo.ipynb"
   ]
  },
  {
   "cell_type": "code",
   "execution_count": null,
   "id": "b131da88-f93a-4517-b1c5-8569c4e438c1",
   "metadata": {},
   "outputs": [],
   "source": []
  }
 ],
 "metadata": {
  "kernelspec": {
   "display_name": "ds",
   "language": "python",
   "name": "ds"
  },
  "language_info": {
   "codemirror_mode": {
    "name": "ipython",
    "version": 3
   },
   "file_extension": ".py",
   "mimetype": "text/x-python",
   "name": "python",
   "nbconvert_exporter": "python",
   "pygments_lexer": "ipython3",
   "version": "3.9.12"
  }
 },
 "nbformat": 4,
 "nbformat_minor": 5
}
