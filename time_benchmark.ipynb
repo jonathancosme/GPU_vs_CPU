{
 "cells": [
  {
   "cell_type": "code",
   "execution_count": 1,
   "id": "4ada0726-0a7f-4fcf-b34e-c00e46637d0a",
   "metadata": {},
   "outputs": [
    {
     "name": "stdout",
     "output_type": "stream",
     "text": [
      "CPU times: user 1.39 s, sys: 549 ms, total: 1.94 s\n",
      "Wall time: 1.94 s\n",
      "CPU times: user 26.3 ms, sys: 68.3 ms, total: 94.6 ms\n",
      "Wall time: 192 ms\n",
      "CPU times: user 165 ms, sys: 7.78 ms, total: 172 ms\n",
      "Wall time: 172 ms\n",
      "CPU times: user 3.46 ms, sys: 15.9 ms, total: 19.4 ms\n",
      "Wall time: 19.2 ms\n",
      "CPU times: user 7.56 ms, sys: 3.86 ms, total: 11.4 ms\n",
      "Wall time: 11.4 ms\n",
      "CPU times: user 18.5 ms, sys: 3.47 ms, total: 22 ms\n",
      "Wall time: 22.1 ms\n",
      "CPU times: user 36.6 ms, sys: 113 µs, total: 36.7 ms\n",
      "Wall time: 36.8 ms\n",
      "CPU times: user 133 ms, sys: 16.2 ms, total: 150 ms\n",
      "Wall time: 149 ms\n",
      "CPU times: user 2.04 ms, sys: 0 ns, total: 2.04 ms\n",
      "Wall time: 1.86 ms\n",
      "CPU times: user 25.1 ms, sys: 0 ns, total: 25.1 ms\n",
      "Wall time: 25.1 ms\n",
      "CPU times: user 661 ms, sys: 273 ms, total: 934 ms\n",
      "Wall time: 931 ms\n",
      "CPU times: user 361 ms, sys: 3.59 ms, total: 365 ms\n",
      "Wall time: 364 ms\n",
      "CPU times: user 42.6 ms, sys: 7.51 ms, total: 50.1 ms\n",
      "Wall time: 50 ms\n"
     ]
    },
    {
     "name": "stderr",
     "output_type": "stream",
     "text": [
      "/home/jcosme/miniconda3/envs/ds/lib/python3.9/site-packages/cuml/internals/api_decorators.py:794: UserWarning: For reproducible results in Random Forest Classifier or for almost reproducible results in Random Forest Regressor, n_streams=1 is recommended. If n_streams is > 1, results may vary due to stream/thread timing differences, even when random_state is set\n",
      "  return func(**kwargs)\n"
     ]
    },
    {
     "name": "stdout",
     "output_type": "stream",
     "text": [
      "CPU times: user 496 ms, sys: 230 ms, total: 725 ms\n",
      "Wall time: 380 ms\n",
      "using GPU...\n",
      "[18:37:02] WARNING: /opt/conda/envs/rapids/conda-bld/xgboost_1649372530131/work/src/learner.cc:1115: Starting in XGBoost 1.3.0, the default evaluation metric used with the objective 'binary:logistic' was changed from 'error' to 'logloss'. Explicitly set eval_metric if you'd like to restore the old behavior.\n",
      "CPU times: user 499 ms, sys: 107 ms, total: 606 ms\n",
      "Wall time: 605 ms\n",
      "CPU times: user 6.05 s, sys: 2.03 s, total: 8.08 s\n",
      "Wall time: 7.76 s\n"
     ]
    }
   ],
   "source": [
    "%%time\n",
    "%run GPU_demo.ipynb"
   ]
  },
  {
   "cell_type": "code",
   "execution_count": 2,
   "id": "08aa7d74-d823-4eab-a890-de4e5ba1e553",
   "metadata": {},
   "outputs": [
    {
     "name": "stdout",
     "output_type": "stream",
     "text": [
      "CPU times: user 671 ms, sys: 42.9 ms, total: 714 ms\n",
      "Wall time: 716 ms\n",
      "CPU times: user 2.22 s, sys: 158 ms, total: 2.38 s\n",
      "Wall time: 2.48 s\n",
      "CPU times: user 76.7 ms, sys: 125 µs, total: 76.9 ms\n",
      "Wall time: 76.5 ms\n",
      "CPU times: user 66 ms, sys: 11.5 ms, total: 77.5 ms\n",
      "Wall time: 77.6 ms\n",
      "CPU times: user 142 ms, sys: 295 µs, total: 142 ms\n",
      "Wall time: 141 ms\n",
      "CPU times: user 276 ms, sys: 3.79 ms, total: 280 ms\n",
      "Wall time: 279 ms\n",
      "CPU times: user 130 ms, sys: 0 ns, total: 130 ms\n",
      "Wall time: 130 ms\n",
      "CPU times: user 365 ms, sys: 0 ns, total: 365 ms\n",
      "Wall time: 365 ms\n",
      "CPU times: user 6.11 ms, sys: 0 ns, total: 6.11 ms\n",
      "Wall time: 5.91 ms\n",
      "CPU times: user 53.5 ms, sys: 302 µs, total: 53.8 ms\n",
      "Wall time: 53.9 ms\n",
      "CPU times: user 217 ms, sys: 169 ms, total: 386 ms\n",
      "Wall time: 68.7 ms\n",
      "CPU times: user 17.7 s, sys: 19.4 s, total: 37 s\n",
      "Wall time: 3.43 s\n",
      "CPU times: user 9.61 s, sys: 4.13 s, total: 13.7 s\n",
      "Wall time: 1.37 s\n",
      "CPU times: user 7.88 s, sys: 0 ns, total: 7.88 s\n",
      "Wall time: 7.88 s\n",
      "[18:37:20] WARNING: /opt/conda/envs/rapids/conda-bld/xgboost_1649372530131/work/src/learner.cc:1115: Starting in XGBoost 1.3.0, the default evaluation metric used with the objective 'binary:logistic' was changed from 'error' to 'logloss'. Explicitly set eval_metric if you'd like to restore the old behavior.\n",
      "CPU times: user 3min 18s, sys: 409 ms, total: 3min 19s\n",
      "Wall time: 25.9 s\n",
      "CPU times: user 3min 58s, sys: 24.3 s, total: 4min 22s\n",
      "Wall time: 43.1 s\n"
     ]
    }
   ],
   "source": [
    "%%time\n",
    "%run CPU_demo.ipynb"
   ]
  },
  {
   "cell_type": "code",
   "execution_count": null,
   "id": "b131da88-f93a-4517-b1c5-8569c4e438c1",
   "metadata": {},
   "outputs": [],
   "source": []
  }
 ],
 "metadata": {
  "kernelspec": {
   "display_name": "ds",
   "language": "python",
   "name": "ds"
  },
  "language_info": {
   "codemirror_mode": {
    "name": "ipython",
    "version": 3
   },
   "file_extension": ".py",
   "mimetype": "text/x-python",
   "name": "python",
   "nbconvert_exporter": "python",
   "pygments_lexer": "ipython3",
   "version": "3.9.12"
  }
 },
 "nbformat": 4,
 "nbformat_minor": 5
}
