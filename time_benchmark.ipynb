{
 "cells": [
  {
   "cell_type": "code",
   "execution_count": 6,
   "id": "4ada0726-0a7f-4fcf-b34e-c00e46637d0a",
   "metadata": {},
   "outputs": [
    {
     "name": "stdout",
     "output_type": "stream",
     "text": [
      "CPU times: user 15.8 ms, sys: 47.8 ms, total: 63.7 ms\n",
      "Wall time: 64 ms\n",
      "CPU times: user 16.6 ms, sys: 147 ms, total: 164 ms\n",
      "Wall time: 200 ms\n",
      "CPU times: user 37.8 ms, sys: 76.1 ms, total: 114 ms\n",
      "Wall time: 114 ms\n",
      "CPU times: user 1.26 ms, sys: 23.9 ms, total: 25.2 ms\n",
      "Wall time: 25 ms\n",
      "CPU times: user 318 µs, sys: 8.01 ms, total: 8.33 ms\n",
      "Wall time: 8.32 ms\n",
      "CPU times: user 3.08 ms, sys: 24 ms, total: 27 ms\n",
      "Wall time: 27.1 ms\n",
      "CPU times: user 13.1 ms, sys: 91.9 ms, total: 105 ms\n",
      "Wall time: 104 ms\n",
      "CPU times: user 40 ms, sys: 112 ms, total: 152 ms\n",
      "Wall time: 153 ms\n",
      "CPU times: user 1.31 ms, sys: 52 µs, total: 1.37 ms\n",
      "Wall time: 1.25 ms\n",
      "CPU times: user 5.5 ms, sys: 5.79 ms, total: 11.3 ms\n",
      "Wall time: 11.4 ms\n",
      "CPU times: user 977 µs, sys: 12 ms, total: 13 ms\n",
      "Wall time: 13.1 ms\n",
      "CPU times: user 111 ms, sys: 584 ms, total: 695 ms\n",
      "Wall time: 694 ms\n",
      "CPU times: user 13.5 ms, sys: 124 ms, total: 137 ms\n",
      "Wall time: 137 ms\n"
     ]
    },
    {
     "name": "stderr",
     "output_type": "stream",
     "text": [
      "/home/jcosme/miniconda3/envs/ds/lib/python3.9/site-packages/cuml/internals/api_decorators.py:794: UserWarning: For reproducible results in Random Forest Classifier or for almost reproducible results in Random Forest Regressor, n_streams=1 is recommended. If n_streams is > 1, results may vary due to stream/thread timing differences, even when random_state is set\n",
      "  return func(**kwargs)\n"
     ]
    },
    {
     "name": "stdout",
     "output_type": "stream",
     "text": [
      "CPU times: user 793 ms, sys: 926 ms, total: 1.72 s\n",
      "Wall time: 836 ms\n",
      "[14:48:50] WARNING: /opt/conda/envs/rapids/conda-bld/xgboost_1649372530131/work/src/learner.cc:1115: Starting in XGBoost 1.3.0, the default evaluation metric used with the objective 'binary:logistic' was changed from 'error' to 'logloss'. Explicitly set eval_metric if you'd like to restore the old behavior.\n",
      "CPU times: user 189 ms, sys: 248 ms, total: 437 ms\n",
      "Wall time: 431 ms\n",
      "CPU times: user 1.28 s, sys: 2.43 s, total: 3.71 s\n",
      "Wall time: 2.84 s\n"
     ]
    }
   ],
   "source": [
    "%%time\n",
    "%run GPU_demo.ipynb"
   ]
  },
  {
   "cell_type": "code",
   "execution_count": 5,
   "id": "08aa7d74-d823-4eab-a890-de4e5ba1e553",
   "metadata": {},
   "outputs": [
    {
     "name": "stdout",
     "output_type": "stream",
     "text": [
      "CPU times: user 621 ms, sys: 64 ms, total: 685 ms\n",
      "Wall time: 685 ms\n",
      "CPU times: user 2.26 s, sys: 84 ms, total: 2.34 s\n",
      "Wall time: 2.37 s\n",
      "CPU times: user 98.4 ms, sys: 0 ns, total: 98.4 ms\n",
      "Wall time: 97.8 ms\n",
      "CPU times: user 83.5 ms, sys: 19.9 ms, total: 103 ms\n",
      "Wall time: 104 ms\n",
      "CPU times: user 186 ms, sys: 66 µs, total: 186 ms\n",
      "Wall time: 185 ms\n",
      "CPU times: user 332 ms, sys: 0 ns, total: 332 ms\n",
      "Wall time: 331 ms\n",
      "CPU times: user 147 ms, sys: 58 µs, total: 147 ms\n",
      "Wall time: 147 ms\n",
      "CPU times: user 405 ms, sys: 0 ns, total: 405 ms\n",
      "Wall time: 404 ms\n",
      "CPU times: user 7.46 ms, sys: 0 ns, total: 7.46 ms\n",
      "Wall time: 7.3 ms\n",
      "CPU times: user 71.8 ms, sys: 12 ms, total: 83.8 ms\n",
      "Wall time: 83.9 ms\n",
      "CPU times: user 75.2 ms, sys: 32.1 ms, total: 107 ms\n",
      "Wall time: 81.4 ms\n",
      "CPU times: user 16.9 s, sys: 22.8 s, total: 39.7 s\n",
      "Wall time: 2.57 s\n",
      "CPU times: user 13.1 s, sys: 7.25 s, total: 20.4 s\n",
      "Wall time: 1.38 s\n",
      "CPU times: user 45.1 s, sys: 20.1 ms, total: 45.1 s\n",
      "Wall time: 45.1 s\n",
      "[14:48:35] WARNING: /opt/conda/envs/rapids/conda-bld/xgboost_1649372530131/work/src/learner.cc:1115: Starting in XGBoost 1.3.0, the default evaluation metric used with the objective 'binary:logistic' was changed from 'error' to 'logloss'. Explicitly set eval_metric if you'd like to restore the old behavior.\n",
      "CPU times: user 1min 57s, sys: 230 ms, total: 1min 58s\n",
      "Wall time: 13.3 s\n",
      "CPU times: user 3min 17s, sys: 30.5 s, total: 3min 47s\n",
      "Wall time: 1min 7s\n"
     ]
    }
   ],
   "source": [
    "%%time\n",
    "%run CPU_demo.ipynb"
   ]
  },
  {
   "cell_type": "code",
   "execution_count": null,
   "id": "b131da88-f93a-4517-b1c5-8569c4e438c1",
   "metadata": {},
   "outputs": [],
   "source": []
  }
 ],
 "metadata": {
  "kernelspec": {
   "display_name": "ds",
   "language": "python",
   "name": "ds"
  },
  "language_info": {
   "codemirror_mode": {
    "name": "ipython",
    "version": 3
   },
   "file_extension": ".py",
   "mimetype": "text/x-python",
   "name": "python",
   "nbconvert_exporter": "python",
   "pygments_lexer": "ipython3",
   "version": "3.9.12"
  }
 },
 "nbformat": 4,
 "nbformat_minor": 5
}
