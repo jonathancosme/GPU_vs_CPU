{
 "cells": [
  {
   "cell_type": "code",
   "execution_count": 1,
   "id": "6d01787a",
   "metadata": {
    "executionInfo": {
     "elapsed": 3708,
     "status": "ok",
     "timestamp": 1649137487780,
     "user": {
      "displayName": "Jonathan Cosme",
      "userId": "03866196755566426705"
     },
     "user_tz": 300
    },
    "id": "6d01787a"
   },
   "outputs": [],
   "source": [
    "import numpy as np\n",
    "import cudf as pd\n",
    "from cuml.preprocessing import LabelEncoder\n",
    "from cuml.linear_model import LogisticRegression, LinearRegression\n",
    "from cuml.ensemble import RandomForestClassifier\n",
    "from cuml.model_selection import train_test_split\n",
    "from cuml.cluster import KMeans\n",
    "from cuml.metrics import accuracy_score\n",
    "from cuml.metrics import confusion_matrix"
   ]
  },
  {
   "cell_type": "markdown",
   "id": "f5fc9697",
   "metadata": {
    "id": "f5fc9697",
    "jp-MarkdownHeadingCollapsed": true,
    "tags": []
   },
   "source": [
    "# Input filename"
   ]
  },
  {
   "cell_type": "code",
   "execution_count": 2,
   "id": "2c0fa4f3",
   "metadata": {
    "executionInfo": {
     "elapsed": 276,
     "status": "ok",
     "timestamp": 1649137560831,
     "user": {
      "displayName": "Jonathan Cosme",
      "userId": "03866196755566426705"
     },
     "user_tz": 300
    },
    "id": "2c0fa4f3"
   },
   "outputs": [],
   "source": [
    "in_filename = 'sample_data_20m.csv'\n",
    "out_filename = 'write_speed_test_gpu.csv'"
   ]
  },
  {
   "cell_type": "markdown",
   "id": "47228ef1",
   "metadata": {
    "id": "47228ef1",
    "jp-MarkdownHeadingCollapsed": true,
    "tags": []
   },
   "source": [
    "# Define variables"
   ]
  },
  {
   "cell_type": "code",
   "execution_count": 3,
   "id": "2ab38848",
   "metadata": {
    "executionInfo": {
     "elapsed": 384,
     "status": "ok",
     "timestamp": 1649137561998,
     "user": {
      "displayName": "Jonathan Cosme",
      "userId": "03866196755566426705"
     },
     "user_tz": 300
    },
    "id": "2ab38848"
   },
   "outputs": [],
   "source": [
    "label_col_name = 'Medwatch or 3911 drug' # the name of the column that contain the labels (0 for negative, 1 for positive)\n",
    "\n",
    "predictor_col_names = ['Size of U.S. market', # the names of the columns that will be used to predict the label\n",
    "                       'Price per unit', \n",
    "                       'RX/OTC', \n",
    "                       'Indication',\n",
    "                       'Drug Class',\n",
    "                       'Shortage',\n",
    "                       'Twitter Mentions'\n",
    "                      ] \n",
    "\n",
    "cetegoric_predictor_col_names = ['RX/OTC', # list of predictor columns that are not values; will use a label encoder on these\n",
    "                                 'Indication',\n",
    "                                 'Drug Class', \n",
    "                                 'Shortage'\n",
    "                                ]\n",
    "\n",
    "# models perform better when values are between 0 and 1. \n",
    "# thus, we use a scaling value to attempt to do this\n",
    "scaling_dict = {'Size of U.S. market': 1/100000000000, # each column in this dictionary will be multiplied by the values here\n",
    "                'Price per unit': 1/10000,\n",
    "                'Twitter Mentions': 1/200000\n",
    "               }\n",
    "\n",
    "val_set_percent = 0.1 # percent of data to be reserved for validation\n",
    "test_set_percent = 0.1 # percent of data to be reserved for testing"
   ]
  },
  {
   "cell_type": "code",
   "execution_count": 4,
   "id": "41d0f28d",
   "metadata": {
    "executionInfo": {
     "elapsed": 3,
     "status": "ok",
     "timestamp": 1649137562412,
     "user": {
      "displayName": "Jonathan Cosme",
      "userId": "03866196755566426705"
     },
     "user_tz": 300
    },
    "id": "41d0f28d"
   },
   "outputs": [],
   "source": [
    "random_seed = 42 # to make results reproducible"
   ]
  },
  {
   "cell_type": "markdown",
   "id": "b031a0cb",
   "metadata": {
    "id": "b031a0cb"
   },
   "source": [
    "# Load & write data"
   ]
  },
  {
   "cell_type": "code",
   "execution_count": 5,
   "id": "bcc0ed9d",
   "metadata": {
    "executionInfo": {
     "elapsed": 275,
     "status": "ok",
     "timestamp": 1649137563756,
     "user": {
      "displayName": "Jonathan Cosme",
      "userId": "03866196755566426705"
     },
     "user_tz": 300
    },
    "id": "bcc0ed9d"
   },
   "outputs": [],
   "source": [
    "np.random.seed(seed=random_seed)"
   ]
  },
  {
   "cell_type": "code",
   "execution_count": 6,
   "id": "65174d05",
   "metadata": {
    "colab": {
     "base_uri": "https://localhost:8080/"
    },
    "executionInfo": {
     "elapsed": 7204,
     "status": "ok",
     "timestamp": 1649137943386,
     "user": {
      "displayName": "Jonathan Cosme",
      "userId": "03866196755566426705"
     },
     "user_tz": 300
    },
    "id": "65174d05",
    "outputId": "a0fdc542-a2de-4fc9-ad75-9c4027cea7ec"
   },
   "outputs": [
    {
     "name": "stdout",
     "output_type": "stream",
     "text": [
      "CPU times: user 1.36 s, sys: 1.17 s, total: 2.52 s\n",
      "Wall time: 2.54 s\n"
     ]
    }
   ],
   "source": [
    "%%time\n",
    "df = pd.read_csv(in_filename)"
   ]
  },
  {
   "cell_type": "code",
   "execution_count": 7,
   "id": "5e281865-be66-438b-b6ff-3f78840f7796",
   "metadata": {},
   "outputs": [
    {
     "name": "stdout",
     "output_type": "stream",
     "text": [
      "CPU times: user 522 ms, sys: 2.91 s, total: 3.43 s\n",
      "Wall time: 3.75 s\n"
     ]
    }
   ],
   "source": [
    "%%time\n",
    "df.to_csv(out_filename, index=False)"
   ]
  },
  {
   "cell_type": "markdown",
   "id": "f3dbb602-8397-46a7-a657-b426cf5c1e6d",
   "metadata": {
    "id": "f3dbb602-8397-46a7-a657-b426cf5c1e6d"
   },
   "source": [
    "# Common DataFrame Operations"
   ]
  },
  {
   "cell_type": "markdown",
   "id": "173b4d5b-6659-4a19-959e-7acd8cc4d197",
   "metadata": {
    "id": "173b4d5b-6659-4a19-959e-7acd8cc4d197"
   },
   "source": [
    "### describe the dataframe"
   ]
  },
  {
   "cell_type": "code",
   "execution_count": 8,
   "id": "5bfc39f8-7ffc-43d7-aecb-ed2779d5c5e6",
   "metadata": {
    "colab": {
     "base_uri": "https://localhost:8080/",
     "height": 335
    },
    "executionInfo": {
     "elapsed": 1717,
     "status": "ok",
     "timestamp": 1649137949938,
     "user": {
      "displayName": "Jonathan Cosme",
      "userId": "03866196755566426705"
     },
     "user_tz": 300
    },
    "id": "5bfc39f8-7ffc-43d7-aecb-ed2779d5c5e6",
    "outputId": "d2bb465b-aa11-4af4-bb4f-64084d77f0b3"
   },
   "outputs": [
    {
     "name": "stdout",
     "output_type": "stream",
     "text": [
      "CPU times: user 164 ms, sys: 381 ms, total: 545 ms\n",
      "Wall time: 547 ms\n"
     ]
    },
    {
     "data": {
      "text/html": [
       "<div>\n",
       "<style scoped>\n",
       "    .dataframe tbody tr th:only-of-type {\n",
       "        vertical-align: middle;\n",
       "    }\n",
       "\n",
       "    .dataframe tbody tr th {\n",
       "        vertical-align: top;\n",
       "    }\n",
       "\n",
       "    .dataframe thead th {\n",
       "        text-align: right;\n",
       "    }\n",
       "</style>\n",
       "<table border=\"1\" class=\"dataframe\">\n",
       "  <thead>\n",
       "    <tr style=\"text-align: right;\">\n",
       "      <th></th>\n",
       "      <th>Medwatch or 3911 drug</th>\n",
       "      <th>Size of U.S. market</th>\n",
       "      <th>Price per unit</th>\n",
       "      <th>SNOMED</th>\n",
       "      <th>Twitter Mentions</th>\n",
       "    </tr>\n",
       "  </thead>\n",
       "  <tbody>\n",
       "    <tr>\n",
       "      <th>count</th>\n",
       "      <td>2.000000e+07</td>\n",
       "      <td>2.000000e+07</td>\n",
       "      <td>2.000000e+07</td>\n",
       "      <td>2.000000e+07</td>\n",
       "      <td>2.000000e+07</td>\n",
       "    </tr>\n",
       "    <tr>\n",
       "      <th>mean</th>\n",
       "      <td>3.800000e-01</td>\n",
       "      <td>2.320627e+09</td>\n",
       "      <td>2.075574e+02</td>\n",
       "      <td>2.586895e+08</td>\n",
       "      <td>9.100454e+03</td>\n",
       "    </tr>\n",
       "    <tr>\n",
       "      <th>std</th>\n",
       "      <td>4.853860e-01</td>\n",
       "      <td>3.183251e+09</td>\n",
       "      <td>3.074475e+02</td>\n",
       "      <td>2.759131e+08</td>\n",
       "      <td>5.705274e+03</td>\n",
       "    </tr>\n",
       "    <tr>\n",
       "      <th>min</th>\n",
       "      <td>0.000000e+00</td>\n",
       "      <td>1.000600e+04</td>\n",
       "      <td>1.000000e-01</td>\n",
       "      <td>7.321101e+07</td>\n",
       "      <td>0.000000e+00</td>\n",
       "    </tr>\n",
       "    <tr>\n",
       "      <th>25%</th>\n",
       "      <td>0.000000e+00</td>\n",
       "      <td>3.392232e+07</td>\n",
       "      <td>1.750000e+00</td>\n",
       "      <td>8.065901e+07</td>\n",
       "      <td>4.237000e+03</td>\n",
       "    </tr>\n",
       "    <tr>\n",
       "      <th>50%</th>\n",
       "      <td>0.000000e+00</td>\n",
       "      <td>6.776955e+07</td>\n",
       "      <td>3.400000e+00</td>\n",
       "      <td>1.192920e+08</td>\n",
       "      <td>8.473000e+03</td>\n",
       "    </tr>\n",
       "    <tr>\n",
       "      <th>75%</th>\n",
       "      <td>1.000000e+00</td>\n",
       "      <td>4.636946e+09</td>\n",
       "      <td>3.942700e+02</td>\n",
       "      <td>3.736210e+08</td>\n",
       "      <td>1.390700e+04</td>\n",
       "    </tr>\n",
       "    <tr>\n",
       "      <th>max</th>\n",
       "      <td>1.000000e+00</td>\n",
       "      <td>9.999989e+09</td>\n",
       "      <td>1.000000e+03</td>\n",
       "      <td>8.403580e+08</td>\n",
       "      <td>2.000000e+04</td>\n",
       "    </tr>\n",
       "  </tbody>\n",
       "</table>\n",
       "</div>"
      ],
      "text/plain": [
       "       Medwatch or 3911 drug  Size of U.S. market  Price per unit  \\\n",
       "count           2.000000e+07         2.000000e+07    2.000000e+07   \n",
       "mean            3.800000e-01         2.320627e+09    2.075574e+02   \n",
       "std             4.853860e-01         3.183251e+09    3.074475e+02   \n",
       "min             0.000000e+00         1.000600e+04    1.000000e-01   \n",
       "25%             0.000000e+00         3.392232e+07    1.750000e+00   \n",
       "50%             0.000000e+00         6.776955e+07    3.400000e+00   \n",
       "75%             1.000000e+00         4.636946e+09    3.942700e+02   \n",
       "max             1.000000e+00         9.999989e+09    1.000000e+03   \n",
       "\n",
       "             SNOMED  Twitter Mentions  \n",
       "count  2.000000e+07      2.000000e+07  \n",
       "mean   2.586895e+08      9.100454e+03  \n",
       "std    2.759131e+08      5.705274e+03  \n",
       "min    7.321101e+07      0.000000e+00  \n",
       "25%    8.065901e+07      4.237000e+03  \n",
       "50%    1.192920e+08      8.473000e+03  \n",
       "75%    3.736210e+08      1.390700e+04  \n",
       "max    8.403580e+08      2.000000e+04  "
      ]
     },
     "execution_count": 8,
     "metadata": {},
     "output_type": "execute_result"
    }
   ],
   "source": [
    "%%time\n",
    "df.describe()"
   ]
  },
  {
   "cell_type": "markdown",
   "id": "14e786b7-2525-43e0-b5bf-6535a0947f2d",
   "metadata": {
    "id": "14e786b7-2525-43e0-b5bf-6535a0947f2d"
   },
   "source": [
    "### Set Index\n",
    "for each categorical variable, set the DataFrame index to that variable"
   ]
  },
  {
   "cell_type": "code",
   "execution_count": 9,
   "id": "25292546-1479-43f6-935c-d57919347fe2",
   "metadata": {
    "colab": {
     "base_uri": "https://localhost:8080/"
    },
    "executionInfo": {
     "elapsed": 724,
     "status": "ok",
     "timestamp": 1649137952069,
     "user": {
      "displayName": "Jonathan Cosme",
      "userId": "03866196755566426705"
     },
     "user_tz": 300
    },
    "id": "25292546-1479-43f6-935c-d57919347fe2",
    "outputId": "fd17010c-128a-4350-b348-bede10542176"
   },
   "outputs": [
    {
     "name": "stdout",
     "output_type": "stream",
     "text": [
      "CPU times: user 9.1 ms, sys: 121 ms, total: 130 ms\n",
      "Wall time: 130 ms\n"
     ]
    }
   ],
   "source": [
    "%%time\n",
    "for a_cat in cetegoric_predictor_col_names:\n",
    "    _ = df.set_index(a_cat)"
   ]
  },
  {
   "cell_type": "markdown",
   "id": "43cfa654-f85f-4064-b57f-6e82a80803d7",
   "metadata": {
    "id": "43cfa654-f85f-4064-b57f-6e82a80803d7"
   },
   "source": [
    "### Concat multiple DataFrames\n",
    "split data frame into 3 parts, and concatenate them"
   ]
  },
  {
   "cell_type": "code",
   "execution_count": 10,
   "id": "169837d8-3e91-4bb3-8f1c-a95614cc4bd1",
   "metadata": {
    "colab": {
     "base_uri": "https://localhost:8080/"
    },
    "executionInfo": {
     "elapsed": 295,
     "status": "ok",
     "timestamp": 1649137954690,
     "user": {
      "displayName": "Jonathan Cosme",
      "userId": "03866196755566426705"
     },
     "user_tz": 300
    },
    "id": "169837d8-3e91-4bb3-8f1c-a95614cc4bd1",
    "outputId": "58cfaaf7-ef38-4c66-a6e5-632fb1e35768"
   },
   "outputs": [
    {
     "name": "stdout",
     "output_type": "stream",
     "text": [
      "CPU times: user 15.5 ms, sys: 43.3 ms, total: 58.8 ms\n",
      "Wall time: 57.8 ms\n"
     ]
    }
   ],
   "source": [
    "%%time\n",
    "one_third_n_rows = round(df.shape[0] / 3)\n",
    "_ = pd.concat([df.iloc[0:one_third_n_rows], df.iloc[one_third_n_rows:2*one_third_n_rows], df.iloc[2*one_third_n_rows::]])"
   ]
  },
  {
   "cell_type": "markdown",
   "id": "b86df6a3-1539-4c8e-9249-91ffdc698d6a",
   "metadata": {
    "id": "b86df6a3-1539-4c8e-9249-91ffdc698d6a",
    "tags": []
   },
   "source": [
    "### Groupby function\n",
    "mean for each categorical variable"
   ]
  },
  {
   "cell_type": "code",
   "execution_count": 11,
   "id": "52471a46-3083-4e1d-bdaa-b7a71eee10d2",
   "metadata": {
    "colab": {
     "base_uri": "https://localhost:8080/"
    },
    "executionInfo": {
     "elapsed": 627,
     "status": "ok",
     "timestamp": 1649137959268,
     "user": {
      "displayName": "Jonathan Cosme",
      "userId": "03866196755566426705"
     },
     "user_tz": 300
    },
    "id": "52471a46-3083-4e1d-bdaa-b7a71eee10d2",
    "outputId": "4e718eb8-19a3-4037-9d49-3fa7131e5e43"
   },
   "outputs": [
    {
     "name": "stdout",
     "output_type": "stream",
     "text": [
      "CPU times: user 11.2 ms, sys: 276 ms, total: 287 ms\n",
      "Wall time: 289 ms\n"
     ]
    }
   ],
   "source": [
    "%%time\n",
    "for a_cat in cetegoric_predictor_col_names:\n",
    "    _ = df.groupby(a_cat).mean()"
   ]
  },
  {
   "cell_type": "markdown",
   "id": "f57f1437",
   "metadata": {
    "id": "f57f1437"
   },
   "source": [
    "# Preprocess data"
   ]
  },
  {
   "cell_type": "code",
   "execution_count": 12,
   "id": "c3825c96",
   "metadata": {
    "executionInfo": {
     "elapsed": 253,
     "status": "ok",
     "timestamp": 1649137961416,
     "user": {
      "displayName": "Jonathan Cosme",
      "userId": "03866196755566426705"
     },
     "user_tz": 300
    },
    "id": "c3825c96"
   },
   "outputs": [],
   "source": [
    "df_input = df.copy()"
   ]
  },
  {
   "cell_type": "markdown",
   "id": "5a283b33",
   "metadata": {
    "id": "5a283b33"
   },
   "source": [
    "### fit label encoder\n",
    "first we create a label encoder for each column specified in the variable 'cetegoric_predictor_col_names' \n",
    "defined at the top of the notebook"
   ]
  },
  {
   "cell_type": "code",
   "execution_count": 13,
   "id": "9ecf777b",
   "metadata": {
    "colab": {
     "base_uri": "https://localhost:8080/"
    },
    "executionInfo": {
     "elapsed": 2993,
     "status": "ok",
     "timestamp": 1649137967139,
     "user": {
      "displayName": "Jonathan Cosme",
      "userId": "03866196755566426705"
     },
     "user_tz": 300
    },
    "id": "9ecf777b",
    "outputId": "3270c21f-a761-4547-efed-f2ec8e53595a"
   },
   "outputs": [
    {
     "name": "stdout",
     "output_type": "stream",
     "text": [
      "CPU times: user 206 ms, sys: 1.62 s, total: 1.83 s\n",
      "Wall time: 1.83 s\n"
     ]
    }
   ],
   "source": [
    "%%time\n",
    "le_dict = {}\n",
    "for col in df_input.columns:\n",
    "    if col in cetegoric_predictor_col_names:\n",
    "        le_dict[col] = LabelEncoder()\n",
    "        le_dict[col].fit(df_input[col].unique())"
   ]
  },
  {
   "cell_type": "markdown",
   "id": "0ad8819a",
   "metadata": {
    "id": "0ad8819a"
   },
   "source": [
    "### encode categoric columns\n",
    "Then we apply the label encoder to the values of those columns"
   ]
  },
  {
   "cell_type": "code",
   "execution_count": 14,
   "id": "394fd6af",
   "metadata": {
    "colab": {
     "base_uri": "https://localhost:8080/"
    },
    "executionInfo": {
     "elapsed": 4390,
     "status": "ok",
     "timestamp": 1649137973367,
     "user": {
      "displayName": "Jonathan Cosme",
      "userId": "03866196755566426705"
     },
     "user_tz": 300
    },
    "id": "394fd6af",
    "outputId": "a48ecb53-4fee-43a6-c582-daffbc24567e"
   },
   "outputs": [
    {
     "name": "stdout",
     "output_type": "stream",
     "text": [
      "CPU times: user 233 ms, sys: 1.94 s, total: 2.18 s\n",
      "Wall time: 2.18 s\n"
     ]
    }
   ],
   "source": [
    "%%time\n",
    "for col in df_input.columns:\n",
    "    if col in cetegoric_predictor_col_names:\n",
    "        df_input[col] = le_dict[col].transform(df_input[col])"
   ]
  },
  {
   "cell_type": "markdown",
   "id": "427d4065",
   "metadata": {
    "id": "427d4065"
   },
   "source": [
    "### scale value variable columns\n",
    "Next we apply the scaling by the variable 'scaling_dict' defined at the top of the notebook"
   ]
  },
  {
   "cell_type": "code",
   "execution_count": 15,
   "id": "484305f2",
   "metadata": {
    "colab": {
     "base_uri": "https://localhost:8080/"
    },
    "executionInfo": {
     "elapsed": 254,
     "status": "ok",
     "timestamp": 1649137977628,
     "user": {
      "displayName": "Jonathan Cosme",
      "userId": "03866196755566426705"
     },
     "user_tz": 300
    },
    "id": "484305f2",
    "outputId": "f244b43a-a861-441f-9eb8-5100637e272b"
   },
   "outputs": [
    {
     "name": "stdout",
     "output_type": "stream",
     "text": [
      "CPU times: user 3.52 ms, sys: 11.4 ms, total: 14.9 ms\n",
      "Wall time: 12.3 ms\n"
     ]
    }
   ],
   "source": [
    "%%time\n",
    "for col in scaling_dict.keys():\n",
    "    df_input[col] = df_input[col] * scaling_dict[col]"
   ]
  },
  {
   "cell_type": "markdown",
   "id": "467cb36e",
   "metadata": {
    "id": "467cb36e"
   },
   "source": [
    "We split the dataframe into inputs (X) and outputs/targets (y)"
   ]
  },
  {
   "cell_type": "code",
   "execution_count": 16,
   "id": "111ef8e2",
   "metadata": {
    "executionInfo": {
     "elapsed": 256,
     "status": "ok",
     "timestamp": 1649137981499,
     "user": {
      "displayName": "Jonathan Cosme",
      "userId": "03866196755566426705"
     },
     "user_tz": 300
    },
    "id": "111ef8e2"
   },
   "outputs": [],
   "source": [
    "X = df_input[predictor_col_names].copy()\n",
    "y = df_input[label_col_name].copy()"
   ]
  },
  {
   "cell_type": "markdown",
   "id": "1ff98a0a",
   "metadata": {
    "id": "1ff98a0a"
   },
   "source": [
    "Then we split the data into training and test sets"
   ]
  },
  {
   "cell_type": "code",
   "execution_count": 17,
   "id": "0fea2c9a-faa7-40cf-96b7-5a51ff379c3f",
   "metadata": {},
   "outputs": [],
   "source": [
    "not_train_prct = val_set_percent + test_set_percent\n",
    "train_prct = 1. - not_train_prct\n",
    "test_prct = test_set_percent / not_train_prct\n",
    "val_prct = 1. - test_prct"
   ]
  },
  {
   "cell_type": "code",
   "execution_count": 18,
   "id": "be3bad9a",
   "metadata": {
    "colab": {
     "base_uri": "https://localhost:8080/"
    },
    "executionInfo": {
     "elapsed": 1134,
     "status": "ok",
     "timestamp": 1649137983888,
     "user": {
      "displayName": "Jonathan Cosme",
      "userId": "03866196755566426705"
     },
     "user_tz": 300
    },
    "id": "be3bad9a",
    "outputId": "5c04e764-2621-4b6d-b73b-d044eaab6ca6"
   },
   "outputs": [
    {
     "name": "stdout",
     "output_type": "stream",
     "text": [
      "CPU times: user 66.7 ms, sys: 81.2 ms, total: 148 ms\n",
      "Wall time: 146 ms\n"
     ]
    }
   ],
   "source": [
    "%%time\n",
    "X_train, X_test, y_train, y_test = train_test_split(X, y, test_size=not_train_prct, random_state=random_seed)\n",
    "X_val, X_test, y_val, y_test = train_test_split(X_test, y_test, test_size=test_prct, random_state=random_seed)"
   ]
  },
  {
   "cell_type": "code",
   "execution_count": 19,
   "id": "1a446021-ab19-4994-b9c1-6e9236c06ee1",
   "metadata": {},
   "outputs": [],
   "source": [
    "del df, df_input"
   ]
  },
  {
   "cell_type": "markdown",
   "id": "27250faa",
   "metadata": {
    "id": "27250faa"
   },
   "source": [
    "# Goal\n",
    "\n",
    "Our goal is to **maximize** the number of **correct possitive labels**"
   ]
  },
  {
   "cell_type": "markdown",
   "id": "5a7c080c",
   "metadata": {
    "id": "5a7c080c"
   },
   "source": [
    "# OLS Regression"
   ]
  },
  {
   "cell_type": "markdown",
   "id": "339bc6bf",
   "metadata": {
    "id": "339bc6bf"
   },
   "source": [
    "As a baseline, we train a model using a simple OLS regression. \n",
    "\n",
    "It's possible that only a few of our predictor variables account for high accuracy, and that not all of them are needed. \n",
    "To make sure all are needed, we will first run regressions using EACH INDIVIDUAL predictor variable by itself, \n",
    "then we will run a regregression using ALL predictor variables. \n",
    "We will use the accuracy metric to make this determination."
   ]
  },
  {
   "cell_type": "code",
   "execution_count": 20,
   "id": "d73eb090",
   "metadata": {
    "colab": {
     "base_uri": "https://localhost:8080/"
    },
    "executionInfo": {
     "elapsed": 1437,
     "status": "ok",
     "timestamp": 1649137999472,
     "user": {
      "displayName": "Jonathan Cosme",
      "userId": "03866196755566426705"
     },
     "user_tz": 300
    },
    "id": "d73eb090",
    "outputId": "4f655caa-5348-4c37-a7ad-fc53f360c8c7"
   },
   "outputs": [
    {
     "name": "stdout",
     "output_type": "stream",
     "text": [
      "CPU times: user 560 ms, sys: 524 ms, total: 1.08 s\n",
      "Wall time: 1.08 s\n"
     ]
    },
    {
     "data": {
      "text/plain": [
       "LinearRegression()"
      ]
     },
     "execution_count": 20,
     "metadata": {},
     "output_type": "execute_result"
    }
   ],
   "source": [
    "%%time\n",
    "reg = LinearRegression()\n",
    "reg.fit(X_train, y_train)"
   ]
  },
  {
   "cell_type": "code",
   "execution_count": 21,
   "id": "57b94fac-fc40-4951-895a-b0d519ab6e2a",
   "metadata": {},
   "outputs": [],
   "source": [
    "del reg"
   ]
  },
  {
   "cell_type": "markdown",
   "id": "3eee1b60",
   "metadata": {
    "id": "3eee1b60"
   },
   "source": [
    "We can see that using all the columns give us a better accuracy than each individual column.\n",
    "\n",
    "Now lets view some **metrics on** the **test data**,  \n",
    "and **determine** a **baseline for** our **goal**"
   ]
  },
  {
   "cell_type": "markdown",
   "id": "aa4c67e3",
   "metadata": {
    "id": "aa4c67e3"
   },
   "source": [
    "# Logistic Regression\n",
    "\n",
    "we will now train a Logistic regression model, see our scores for the test dataset, and finally,  \n",
    "see if the logistic regression performs better than our 2226 baseline"
   ]
  },
  {
   "cell_type": "code",
   "execution_count": 22,
   "id": "96c6b1ce",
   "metadata": {
    "colab": {
     "base_uri": "https://localhost:8080/"
    },
    "executionInfo": {
     "elapsed": 10513,
     "status": "ok",
     "timestamp": 1649138013225,
     "user": {
      "displayName": "Jonathan Cosme",
      "userId": "03866196755566426705"
     },
     "user_tz": 300
    },
    "id": "96c6b1ce",
    "outputId": "ab3e8ac7-2a26-4b63-be84-978197f490af"
   },
   "outputs": [
    {
     "name": "stdout",
     "output_type": "stream",
     "text": [
      "CPU times: user 1.06 s, sys: 7.04 s, total: 8.09 s\n",
      "Wall time: 8.08 s\n"
     ]
    },
    {
     "data": {
      "text/plain": [
       "LogisticRegression()"
      ]
     },
     "execution_count": 22,
     "metadata": {},
     "output_type": "execute_result"
    }
   ],
   "source": [
    "%%time\n",
    "logit_reg = LogisticRegression(penalty='none')#, class_weight=class_weight)\n",
    "logit_reg.fit(X_train, y_train)"
   ]
  },
  {
   "cell_type": "code",
   "execution_count": 23,
   "id": "16be226f-ebb1-4649-bea0-4b560562e065",
   "metadata": {},
   "outputs": [],
   "source": [
    "del logit_reg"
   ]
  },
  {
   "cell_type": "markdown",
   "id": "2a764282",
   "metadata": {
    "id": "2a764282"
   },
   "source": [
    "# K-Means"
   ]
  },
  {
   "cell_type": "markdown",
   "id": "52af9a86",
   "metadata": {
    "id": "52af9a86"
   },
   "source": [
    "We now perform the same analysis using K-Means clustering"
   ]
  },
  {
   "cell_type": "code",
   "execution_count": 24,
   "id": "395fe7b3",
   "metadata": {
    "colab": {
     "base_uri": "https://localhost:8080/"
    },
    "executionInfo": {
     "elapsed": 2839,
     "status": "ok",
     "timestamp": 1649138034847,
     "user": {
      "displayName": "Jonathan Cosme",
      "userId": "03866196755566426705"
     },
     "user_tz": 300
    },
    "id": "395fe7b3",
    "outputId": "049c9512-dab2-4bfa-ae47-794e48de83af"
   },
   "outputs": [
    {
     "name": "stdout",
     "output_type": "stream",
     "text": [
      "CPU times: user 320 ms, sys: 2.24 s, total: 2.56 s\n",
      "Wall time: 2.56 s\n"
     ]
    },
    {
     "data": {
      "text/plain": [
       "KMeans()"
      ]
     },
     "execution_count": 24,
     "metadata": {},
     "output_type": "execute_result"
    }
   ],
   "source": [
    "%%time\n",
    "kmeans = KMeans(n_clusters=len(y_train.unique()), random_state=random_seed)\n",
    "kmeans.fit(X_train)"
   ]
  },
  {
   "cell_type": "code",
   "execution_count": 25,
   "id": "6a0c3230-8063-4799-b162-c8036bf58f87",
   "metadata": {},
   "outputs": [],
   "source": [
    "del kmeans"
   ]
  },
  {
   "cell_type": "markdown",
   "id": "95ed4db6",
   "metadata": {
    "id": "95ed4db6"
   },
   "source": [
    "# Random Forest Regression\n",
    "Finally, we perform a random forest regression"
   ]
  },
  {
   "cell_type": "code",
   "execution_count": 26,
   "id": "ebb34345",
   "metadata": {
    "colab": {
     "base_uri": "https://localhost:8080/"
    },
    "executionInfo": {
     "elapsed": 66718,
     "status": "ok",
     "timestamp": 1649138103933,
     "user": {
      "displayName": "Jonathan Cosme",
      "userId": "03866196755566426705"
     },
     "user_tz": 300
    },
    "id": "ebb34345",
    "outputId": "89c55120-dfc5-4f0a-8741-96632f16383e"
   },
   "outputs": [
    {
     "name": "stderr",
     "output_type": "stream",
     "text": [
      "/home/jcosme/miniconda3/envs/ds/lib/python3.9/site-packages/cuml/internals/api_decorators.py:794: UserWarning: For reproducible results in Random Forest Classifier or for almost reproducible results in Random Forest Regressor, n_streams=1 is recommended. If n_streams is > 1, results may vary due to stream/thread timing differences, even when random_state is set\n",
      "  return func(**kwargs)\n"
     ]
    },
    {
     "name": "stdout",
     "output_type": "stream",
     "text": [
      "CPU times: user 13.8 s, sys: 20.8 s, total: 34.6 s\n",
      "Wall time: 15.3 s\n"
     ]
    },
    {
     "data": {
      "text/plain": [
       "RandomForestClassifier()"
      ]
     },
     "execution_count": 26,
     "metadata": {},
     "output_type": "execute_result"
    }
   ],
   "source": [
    "%%time\n",
    "rando_forest = RandomForestClassifier(max_depth=1, random_state=random_seed, n_streams=16)\n",
    "rando_forest.fit(X_train.astype(np.float32), y_train.astype(np.float32))"
   ]
  },
  {
   "cell_type": "code",
   "execution_count": 27,
   "id": "5c48ad21-1232-42f8-90e5-70158588c0df",
   "metadata": {},
   "outputs": [],
   "source": [
    "del rando_forest"
   ]
  },
  {
   "cell_type": "markdown",
   "id": "406d2cf6-eb92-423a-8697-0e3fca0c7996",
   "metadata": {},
   "source": [
    "# Gradient Boosting"
   ]
  },
  {
   "cell_type": "code",
   "execution_count": 28,
   "id": "bb20698c-0d16-4444-b56c-e31c49f3a249",
   "metadata": {},
   "outputs": [
    {
     "name": "stdout",
     "output_type": "stream",
     "text": [
      "[10:14:21] WARNING: /opt/conda/envs/rapids/conda-bld/xgboost_1649372530131/work/src/learner.cc:1115: Starting in XGBoost 1.3.0, the default evaluation metric used with the objective 'binary:logistic' was changed from 'error' to 'logloss'. Explicitly set eval_metric if you'd like to restore the old behavior.\n",
      "CPU times: user 839 ms, sys: 3.09 s, total: 3.93 s\n",
      "Wall time: 3.94 s\n"
     ]
    },
    {
     "data": {
      "text/plain": [
       "XGBClassifier(base_score=0.5, booster='gbtree', colsample_bylevel=1,\n",
       "              colsample_bynode=1, colsample_bytree=1, enable_categorical=False,\n",
       "              gamma=0, gpu_id=0, importance_type=None,\n",
       "              interaction_constraints='', learning_rate=0.300000012,\n",
       "              max_delta_step=0, max_depth=6, min_child_weight=1, missing=nan,\n",
       "              monotone_constraints='()', n_estimators=100, n_jobs=16,\n",
       "              num_parallel_tree=1, predictor='auto', random_state=42,\n",
       "              reg_alpha=0, reg_lambda=1, scale_pos_weight=1, subsample=1,\n",
       "              tree_method='gpu_hist', use_label_encoder=False,\n",
       "              validate_parameters=1, verbosity=None)"
      ]
     },
     "execution_count": 28,
     "metadata": {},
     "output_type": "execute_result"
    }
   ],
   "source": [
    "%%time\n",
    "from xgboost import XGBClassifier\n",
    "xgb = XGBClassifier(tree_method='gpu_hist', use_label_encoder=False, random_state=random_seed)\n",
    "xgb.fit(X_train, y_train)"
   ]
  }
 ],
 "metadata": {
  "accelerator": "GPU",
  "colab": {
   "collapsed_sections": [],
   "machine_shape": "hm",
   "name": "GPU Counterfeit Drug Detection.ipynb",
   "provenance": []
  },
  "kernelspec": {
   "display_name": "ds",
   "language": "python",
   "name": "ds"
  },
  "language_info": {
   "codemirror_mode": {
    "name": "ipython",
    "version": 3
   },
   "file_extension": ".py",
   "mimetype": "text/x-python",
   "name": "python",
   "nbconvert_exporter": "python",
   "pygments_lexer": "ipython3",
   "version": "3.9.12"
  }
 },
 "nbformat": 4,
 "nbformat_minor": 5
}
